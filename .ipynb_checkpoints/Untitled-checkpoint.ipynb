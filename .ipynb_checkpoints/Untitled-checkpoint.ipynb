{
 "cells": [
  {
   "cell_type": "code",
   "execution_count": null,
   "id": "9d49a4e0-3919-4c25-970b-303dd88c386e",
   "metadata": {},
   "outputs": [],
   "source": [
    "import pandas as pd\n",
    "import numpy as np\n",
    "from sklearn.cluster import KMeans\n",
    "import statsmodels.api as sm\n",
    "\n",
    "# Step 1: Load Data\n",
    "df = pd.read_csv(\"data/data_censored.csv\")\n",
    "print(df.head())\n",
    "\n",
    "# Step 2: Data Preparation\n",
    "# Convert categorical variables if needed\n",
    "df = pd.get_dummies(df, drop_first=True)\n",
    "\n",
    "# Step 3: Censoring Models (Placeholder - Implement logic based on dataset specifics)\n",
    "# Assume a censoring column exists\n",
    "df['censored'] = df['event_column'].apply(lambda x: 1 if x == 'censored' else 0)\n",
    "\n",
    "# Step 4: Calculate Weights (Inverse Probability Weights - Placeholder)\n",
    "df['weights'] = 1 / (df['treatment_prob'] + 1e-6)\n",
    "\n",
    "# Step 5: Specify Outcome Model (Simple Regression)\n",
    "X = df[['treatment', 'age', 'sex_male']]  # Example predictors\n",
    "y = df['outcome']\n",
    "X = sm.add_constant(X)\n",
    "model = sm.OLS(y, X).fit()\n",
    "print(model.summary())\n",
    "\n",
    "# Step 6: Expand Trials (Example expansion logic)\n",
    "df_expanded = df.copy()\n",
    "df_expanded['trial_id'] = np.arange(len(df))\n",
    "\n",
    "# Step 7: Clustering Mechanism (TTE-v2 Modification)\n",
    "kmeans = KMeans(n_clusters=3, random_state=42)\n",
    "df_expanded['cluster'] = kmeans.fit_predict(df_expanded[['age', 'treatment']])\n",
    "\n",
    "# Step 8: Fit Marginal Structural Model\n",
    "X_clustered = df_expanded[['treatment', 'age', 'sex_male', 'cluster']]\n",
    "X_clustered = sm.add_constant(X_clustered)\n",
    "model_clustered = sm.OLS(y, X_clustered).fit()\n",
    "print(model_clustered.summary())\n",
    "\n",
    "# Step 9: Inference\n",
    "print(\"Standard Model Coefficients:\")\n",
    "print(model.params)\n",
    "print(\"Clustered Model Coefficients:\")\n",
    "print(model_clustered.params)"
   ]
  }
 ],
 "metadata": {
  "kernelspec": {
   "display_name": "Python 3 (ipykernel)",
   "language": "python",
   "name": "python3"
  },
  "language_info": {
   "codemirror_mode": {
    "name": "ipython",
    "version": 3
   },
   "file_extension": ".py",
   "mimetype": "text/x-python",
   "name": "python",
   "nbconvert_exporter": "python",
   "pygments_lexer": "ipython3",
   "version": "3.13.2"
  }
 },
 "nbformat": 4,
 "nbformat_minor": 5
}
